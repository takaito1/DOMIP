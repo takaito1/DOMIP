{
  "nbformat": 4,
  "nbformat_minor": 0,
  "metadata": {
    "colab": {
      "provenance": [],
      "authorship_tag": "ABX9TyOBMSmJ39IBYY9XojYy+j0b",
      "include_colab_link": true
    },
    "kernelspec": {
      "name": "python3",
      "display_name": "Python 3"
    },
    "language_info": {
      "name": "python"
    }
  },
  "cells": [
    {
      "cell_type": "markdown",
      "metadata": {
        "id": "view-in-github",
        "colab_type": "text"
      },
      "source": [
        "<a href=\"https://colab.research.google.com/github/takaito1/DOMIP/blob/main/bin_wod_bottle_v0.ipynb\" target=\"_parent\"><img src=\"https://colab.research.google.com/assets/colab-badge.svg\" alt=\"Open In Colab\"/></a>"
      ]
    },
    {
      "cell_type": "markdown",
      "source": [
        "# Bin bottle data from WOD\n",
        "  - prepared by T. Ito, 2024\n",
        "  - reads in pre-downloaded WOD T/S/O2 data (2022-02)\n",
        "  - binning the data into cells at a given resolution\n",
        "  - saves the results as a netCDF file"
      ],
      "metadata": {
        "id": "R0QAuKE_a1rX"
      }
    },
    {
      "cell_type": "code",
      "execution_count": 1,
      "metadata": {
        "id": "-vHkLmb-apkW"
      },
      "outputs": [],
      "source": [
        "import numpy as np\n",
        "import xarray as xr\n",
        "import pandas as pd\n",
        "from google.colab import drive"
      ]
    },
    {
      "cell_type": "code",
      "source": [
        "drive.mount('/content/drive') # this links your google drive"
      ],
      "metadata": {
        "colab": {
          "base_uri": "https://localhost:8080/"
        },
        "id": "xCYa4rXib3Yz",
        "outputId": "17445413-3551-47a6-a0e0-6dc0d8a46f81"
      },
      "execution_count": 2,
      "outputs": [
        {
          "output_type": "stream",
          "name": "stdout",
          "text": [
            "Drive already mounted at /content/drive; to attempt to forcibly remount, call drive.mount(\"/content/drive\", force_remount=True).\n"
          ]
        }
      ]
    },
    {
      "cell_type": "code",
      "source": [
        "dosd='/content/drive/MyDrive/DOMIP/WOD18_Feb22/ocldb1646245120.16765_OSD'\n",
        "Nosd=37 # number of OSD files"
      ],
      "metadata": {
        "id": "He42cYDta08b"
      },
      "execution_count": 3,
      "outputs": []
    },
    {
      "cell_type": "code",
      "source": [
        "# prepare grid cells\n",
        "res=1.0\n",
        "xW=np.arange(-180,180,res)        # western edge of the cell\n",
        "yS=np.arange(-90,90,res)          # southern edge of the cell\n",
        "xC=np.arange(-180,180,res)+res/2  # x-center of the cell\n",
        "yC=np.arange(-90,90,res)+res/2    # y-center of the cell\n",
        "xE=np.arange(-180,180,res)+res    # eastern edge of the cell\n",
        "yN=np.arange(-90,90,res)+res      # northern edge of the cell\n",
        "# (Nx,Ny) are the size of the x and y cells\n",
        "Nx = np.size(xC)\n",
        "Ny = np.size(yC)"
      ],
      "metadata": {
        "id": "h1LkFhypd1zQ"
      },
      "execution_count": 4,
      "outputs": []
    },
    {
      "cell_type": "code",
      "source": [
        "# standard depth above 6km\n",
        "ds   = xr.open_dataset(f'{dosd}.nc')\n",
        "zall = ds.z.to_numpy()\n",
        "Z    = np.unique(zall[zall<=6000.])  # cell center depth\n",
        "Nlev = np.size(Z)"
      ],
      "metadata": {
        "id": "GA005JufeBnV"
      },
      "execution_count": 5,
      "outputs": []
    },
    {
      "cell_type": "code",
      "source": [
        "# define a function to extracts WOD bottle profile\n",
        "# from a specific year and month this Nlev vertical levels\n",
        "# and with WOD flag = 0 (accepteable data) for the named variable\n",
        "# (Temperature, Salinity or Oxygen)\n",
        "#\n",
        "def monthly_1deg_bin(Nlev,year,month,varname):\n",
        "    # prepare array\n",
        "    dd_osd=np.zeros((Nlev,Ny,Nx),dtype='int')\n",
        "    sumX_osd=np.zeros((Nlev,Ny,Nx))\n",
        "    dd_prof=np.zeros((Ny,Nx),dtype='int')\n",
        "    # loop over each WOD ragged netCDF file\n",
        "    for f in range(Nosd):\n",
        "        if f==0:\n",
        "            fn=dosd+'.nc'\n",
        "        else:\n",
        "            fn=dosd+str(f+1)+'.nc'\n",
        "        #print('processing '+fn)\n",
        "        dsosd=xr.open_dataset(fn)\n",
        "        # now loop over each cast in the netCDF file\n",
        "        timeloc = pd.DatetimeIndex(dsosd['time'])\n",
        "        Nprof0=np.size(timeloc)\n",
        "        yearloc = timeloc.year\n",
        "        uyear=np.unique(yearloc)\n",
        "        if uyear[0]==1770:\n",
        "            minyr=uyear[1]\n",
        "        else:\n",
        "            minyr=uyear[0]\n",
        "        # get month\n",
        "        monloc = timeloc.month\n",
        "        maxyr=uyear[-1]\n",
        "        if (maxyr < year) | (minyr > year):\n",
        "            note='skipping non-overlapping years...'\n",
        "        else:\n",
        "            print('processing '+fn)\n",
        "            print('num of prof = '+str(Nprof0)+' max year = '+str(maxyr)+' min year = '+str(minyr))\n",
        "            print('reading data...')\n",
        "            lonloc=dsosd['lon'].to_numpy()\n",
        "            latloc=dsosd['lat'].to_numpy()\n",
        "            # get row size (z,T,S) are the same\n",
        "            zrsize=dsosd['z_row_size'].to_numpy()\n",
        "            orsize=dsosd[varname+'_row_size'].to_numpy()\n",
        "            # get depth data\n",
        "            zp0=dsosd['z'].to_numpy()\n",
        "            # get tracer data\n",
        "            o2p0=dsosd[varname].to_numpy()\n",
        "            oflg0=dsosd[varname+'_WODflag'].to_numpy()\n",
        "            zlevidx=0\n",
        "            o2levidx=0\n",
        "            lonloc[lonloc==-180.0]=-179.99\n",
        "            for nn in range(Nprof0):\n",
        "                # current year and month\n",
        "                monow=monloc[nn]\n",
        "                yrnow=yearloc[nn]\n",
        "                # determine x,y,month grid\n",
        "                if (lonloc[nn]<180.0)&(lonloc[nn]>-180)&(latloc[nn]<90.0)&(latloc[nn]>-90):\n",
        "                    xind=np.where((xW>=lonloc[nn]-res)&(xW<lonloc[nn]))[0][0]\n",
        "                    yind=np.where((yS>=latloc[nn]-res)&(yS<latloc[nn]))[0][0]\n",
        "                    goodxy=1\n",
        "                else:\n",
        "                    goodxy=0\n",
        "                # determine the number of samples in this particular profile\n",
        "                o2inc=orsize[nn]\n",
        "                # obtain depth of the samples\n",
        "                zp1=zp0[zlevidx:int(zlevidx+zrsize[nn])]\n",
        "                # check if O2 data exists\n",
        "                if np.isnan(o2inc)|(goodxy==0):\n",
        "                    tmp_note='no data'\n",
        "                else:\n",
        "                    # get the profile and its quality flag\n",
        "                    Nz1=int(o2inc)\n",
        "                    o2p1=o2p0[o2levidx:int(o2levidx+o2inc)]\n",
        "                    oflg1=oflg0[o2levidx:int(o2levidx+o2inc)]\n",
        "                    o2levidx=int(o2levidx+o2inc)\n",
        "                    if (Nz1>Nlev):\n",
        "                        Nz1=Nlev\n",
        "                    for k in range(Nz1):\n",
        "                        # Use data with WODflag = 0 (accepted data)\n",
        "                        if (oflg1[k]==0)&(yrnow==year)&(monow==month):\n",
        "                            sumX_osd[k,yind,xind]=sumX_osd[k,yind,xind]+o2p1[k]\n",
        "                            dd_osd[k,yind,xind]=dd_osd[k,yind,xind]+1\n",
        "                            if (k==0):\n",
        "                                #print(monow)\n",
        "                                dd_prof[yind,xind]=dd_prof[yind,xind]+1\n",
        "                    # --- done within profile loop\n",
        "                # -------\n",
        "                # now update the index for Z, T and S and go to the next profile\n",
        "                zlevidx=int(zlevidx+zrsize[nn])\n",
        "            # check if the number of sample matches up for the entire WOD file\n",
        "            Nobs0=np.size(zp0)\n",
        "            if zlevidx!=Nobs0:\n",
        "                print('error! number of sample did not match')\n",
        "            else:\n",
        "                print('passed the sample count check')\n",
        "    return sumX_osd,dd_osd,dd_prof"
      ],
      "metadata": {
        "id": "1oxFQx2AeOw1"
      },
      "execution_count": 6,
      "outputs": []
    },
    {
      "cell_type": "code",
      "source": [
        "# now bin the data one month at a time\n",
        "start_year = 1965\n",
        "end_year = 2020\n",
        "variable_name='Oxygen'\n",
        "yrs = np.arange(start_year,end_year+1,1)\n",
        "Nyrs=np.size(yrs)\n",
        "#\n",
        "data=np.zeros((Nyrs*12,Nlev,Ny,Nx))\n",
        "count=np.zeros((Nyrs*12,Nlev,Ny,Nx))\n",
        "cnt=0\n",
        "#\n",
        "# assemble binned O2 data\n",
        "for n,year in enumerate(yrs):\n",
        "    for mn in range(12):\n",
        "        print(f'working on {year}-{mn+1} ...')\n",
        "        sumX_osd,dd_osd,dd_prof = monthly_1deg_bin(Nlev,year,mn+1,variable_name)\n",
        "        data[cnt,:,:,:] = sumX_osd/dd_osd\n",
        "        count[cnt,:,:,:]= dd_osd\n",
        "#\n"
      ],
      "metadata": {
        "colab": {
          "base_uri": "https://localhost:8080/",
          "height": 483
        },
        "id": "GnzYHalEeZ6s",
        "outputId": "095375a2-891e-4f47-d92d-604f9f51b6b9"
      },
      "execution_count": 7,
      "outputs": [
        {
          "output_type": "stream",
          "name": "stdout",
          "text": [
            "working on 1965-1 ...\n",
            "processing /content/drive/MyDrive/DOMIP/WOD18_Feb22/ocldb1646245120.16765_OSD9.nc\n",
            "num of prof = 69441 max year = 1965 min year = 1963\n",
            "reading data...\n",
            "passed the sample count check\n",
            "processing /content/drive/MyDrive/DOMIP/WOD18_Feb22/ocldb1646245120.16765_OSD10.nc\n",
            "num of prof = 67692 max year = 1966 min year = 1965\n",
            "reading data...\n"
          ]
        },
        {
          "output_type": "error",
          "ename": "KeyboardInterrupt",
          "evalue": "",
          "traceback": [
            "\u001b[0;31m---------------------------------------------------------------------------\u001b[0m",
            "\u001b[0;31mKeyboardInterrupt\u001b[0m                         Traceback (most recent call last)",
            "\u001b[0;32m<ipython-input-7-85d42a943f5a>\u001b[0m in \u001b[0;36m<cell line: 13>\u001b[0;34m()\u001b[0m\n\u001b[1;32m     14\u001b[0m     \u001b[0;32mfor\u001b[0m \u001b[0mmn\u001b[0m \u001b[0;32min\u001b[0m \u001b[0mrange\u001b[0m\u001b[0;34m(\u001b[0m\u001b[0;36m12\u001b[0m\u001b[0;34m)\u001b[0m\u001b[0;34m:\u001b[0m\u001b[0;34m\u001b[0m\u001b[0;34m\u001b[0m\u001b[0m\n\u001b[1;32m     15\u001b[0m         \u001b[0mprint\u001b[0m\u001b[0;34m(\u001b[0m\u001b[0;34mf'working on {year}-{mn+1} ...'\u001b[0m\u001b[0;34m)\u001b[0m\u001b[0;34m\u001b[0m\u001b[0;34m\u001b[0m\u001b[0m\n\u001b[0;32m---> 16\u001b[0;31m         \u001b[0msumX_osd\u001b[0m\u001b[0;34m,\u001b[0m\u001b[0mdd_osd\u001b[0m\u001b[0;34m,\u001b[0m\u001b[0mdd_prof\u001b[0m \u001b[0;34m=\u001b[0m \u001b[0mmonthly_1deg_bin\u001b[0m\u001b[0;34m(\u001b[0m\u001b[0mNlev\u001b[0m\u001b[0;34m,\u001b[0m\u001b[0myear\u001b[0m\u001b[0;34m,\u001b[0m\u001b[0mmn\u001b[0m\u001b[0;34m+\u001b[0m\u001b[0;36m1\u001b[0m\u001b[0;34m,\u001b[0m\u001b[0mvariable_name\u001b[0m\u001b[0;34m)\u001b[0m\u001b[0;34m\u001b[0m\u001b[0;34m\u001b[0m\u001b[0m\n\u001b[0m\u001b[1;32m     17\u001b[0m         \u001b[0mdata\u001b[0m\u001b[0;34m[\u001b[0m\u001b[0mcnt\u001b[0m\u001b[0;34m,\u001b[0m\u001b[0;34m:\u001b[0m\u001b[0;34m,\u001b[0m\u001b[0;34m:\u001b[0m\u001b[0;34m,\u001b[0m\u001b[0;34m:\u001b[0m\u001b[0;34m]\u001b[0m \u001b[0;34m=\u001b[0m \u001b[0msumX_osd\u001b[0m\u001b[0;34m/\u001b[0m\u001b[0mdd_osd\u001b[0m\u001b[0;34m\u001b[0m\u001b[0;34m\u001b[0m\u001b[0m\n\u001b[1;32m     18\u001b[0m         \u001b[0mcount\u001b[0m\u001b[0;34m[\u001b[0m\u001b[0mcnt\u001b[0m\u001b[0;34m,\u001b[0m\u001b[0;34m:\u001b[0m\u001b[0;34m,\u001b[0m\u001b[0;34m:\u001b[0m\u001b[0;34m,\u001b[0m\u001b[0;34m:\u001b[0m\u001b[0;34m]\u001b[0m\u001b[0;34m=\u001b[0m \u001b[0mdd_osd\u001b[0m\u001b[0;34m\u001b[0m\u001b[0;34m\u001b[0m\u001b[0m\n",
            "\u001b[0;32m<ipython-input-6-9e1fb95fdbb6>\u001b[0m in \u001b[0;36mmonthly_1deg_bin\u001b[0;34m(Nlev, year, month, varname)\u001b[0m\n\u001b[1;32m     54\u001b[0m                 \u001b[0;31m# determine x,y,month grid\u001b[0m\u001b[0;34m\u001b[0m\u001b[0;34m\u001b[0m\u001b[0m\n\u001b[1;32m     55\u001b[0m                 \u001b[0;32mif\u001b[0m \u001b[0;34m(\u001b[0m\u001b[0mlonloc\u001b[0m\u001b[0;34m[\u001b[0m\u001b[0mnn\u001b[0m\u001b[0;34m]\u001b[0m\u001b[0;34m<\u001b[0m\u001b[0;36m180.0\u001b[0m\u001b[0;34m)\u001b[0m\u001b[0;34m&\u001b[0m\u001b[0;34m(\u001b[0m\u001b[0mlonloc\u001b[0m\u001b[0;34m[\u001b[0m\u001b[0mnn\u001b[0m\u001b[0;34m]\u001b[0m\u001b[0;34m>\u001b[0m\u001b[0;34m-\u001b[0m\u001b[0;36m180\u001b[0m\u001b[0;34m)\u001b[0m\u001b[0;34m&\u001b[0m\u001b[0;34m(\u001b[0m\u001b[0mlatloc\u001b[0m\u001b[0;34m[\u001b[0m\u001b[0mnn\u001b[0m\u001b[0;34m]\u001b[0m\u001b[0;34m<\u001b[0m\u001b[0;36m90.0\u001b[0m\u001b[0;34m)\u001b[0m\u001b[0;34m&\u001b[0m\u001b[0;34m(\u001b[0m\u001b[0mlatloc\u001b[0m\u001b[0;34m[\u001b[0m\u001b[0mnn\u001b[0m\u001b[0;34m]\u001b[0m\u001b[0;34m>\u001b[0m\u001b[0;34m-\u001b[0m\u001b[0;36m90\u001b[0m\u001b[0;34m)\u001b[0m\u001b[0;34m:\u001b[0m\u001b[0;34m\u001b[0m\u001b[0;34m\u001b[0m\u001b[0m\n\u001b[0;32m---> 56\u001b[0;31m                     \u001b[0mxind\u001b[0m\u001b[0;34m=\u001b[0m\u001b[0mnp\u001b[0m\u001b[0;34m.\u001b[0m\u001b[0mwhere\u001b[0m\u001b[0;34m(\u001b[0m\u001b[0;34m(\u001b[0m\u001b[0mxW\u001b[0m\u001b[0;34m>=\u001b[0m\u001b[0mlonloc\u001b[0m\u001b[0;34m[\u001b[0m\u001b[0mnn\u001b[0m\u001b[0;34m]\u001b[0m\u001b[0;34m-\u001b[0m\u001b[0mres\u001b[0m\u001b[0;34m)\u001b[0m\u001b[0;34m&\u001b[0m\u001b[0;34m(\u001b[0m\u001b[0mxW\u001b[0m\u001b[0;34m<\u001b[0m\u001b[0mlonloc\u001b[0m\u001b[0;34m[\u001b[0m\u001b[0mnn\u001b[0m\u001b[0;34m]\u001b[0m\u001b[0;34m)\u001b[0m\u001b[0;34m)\u001b[0m\u001b[0;34m[\u001b[0m\u001b[0;36m0\u001b[0m\u001b[0;34m]\u001b[0m\u001b[0;34m[\u001b[0m\u001b[0;36m0\u001b[0m\u001b[0;34m]\u001b[0m\u001b[0;34m\u001b[0m\u001b[0;34m\u001b[0m\u001b[0m\n\u001b[0m\u001b[1;32m     57\u001b[0m                     \u001b[0myind\u001b[0m\u001b[0;34m=\u001b[0m\u001b[0mnp\u001b[0m\u001b[0;34m.\u001b[0m\u001b[0mwhere\u001b[0m\u001b[0;34m(\u001b[0m\u001b[0;34m(\u001b[0m\u001b[0myS\u001b[0m\u001b[0;34m>=\u001b[0m\u001b[0mlatloc\u001b[0m\u001b[0;34m[\u001b[0m\u001b[0mnn\u001b[0m\u001b[0;34m]\u001b[0m\u001b[0;34m-\u001b[0m\u001b[0mres\u001b[0m\u001b[0;34m)\u001b[0m\u001b[0;34m&\u001b[0m\u001b[0;34m(\u001b[0m\u001b[0myS\u001b[0m\u001b[0;34m<\u001b[0m\u001b[0mlatloc\u001b[0m\u001b[0;34m[\u001b[0m\u001b[0mnn\u001b[0m\u001b[0;34m]\u001b[0m\u001b[0;34m)\u001b[0m\u001b[0;34m)\u001b[0m\u001b[0;34m[\u001b[0m\u001b[0;36m0\u001b[0m\u001b[0;34m]\u001b[0m\u001b[0;34m[\u001b[0m\u001b[0;36m0\u001b[0m\u001b[0;34m]\u001b[0m\u001b[0;34m\u001b[0m\u001b[0;34m\u001b[0m\u001b[0m\n\u001b[1;32m     58\u001b[0m                     \u001b[0mgoodxy\u001b[0m\u001b[0;34m=\u001b[0m\u001b[0;36m1\u001b[0m\u001b[0;34m\u001b[0m\u001b[0;34m\u001b[0m\u001b[0m\n",
            "\u001b[0;31mKeyboardInterrupt\u001b[0m: "
          ]
        }
      ]
    },
    {
      "cell_type": "code",
      "source": [
        "# save as a netCDF file\n",
        "time=np.arange(f'{start_year}-01',f'{end_year+1}-01',dtype='datetime64[M]')\n",
        "da=xr.DataArray(data=data,name=variable_name,dims=['time','depth','lat','lon'],\n",
        "                coords={'time':time,'depth':Z,'lat':yC,'lon':xC})\n",
        "ds=da.to_dataset()\n",
        "ds['count']=xr.DataArray(data=count,name='count',dims=['time','depth','lat','lon'],\n",
        "                coords={'time':time,'depth':Z,'lat':yC,'lon':xC})\n",
        "ds.to_netcdf(f'{variable_name}_WOD_QC0_{start_year}_{end_year}.nc')"
      ],
      "metadata": {
        "id": "5SojJjI3_b3J"
      },
      "execution_count": null,
      "outputs": []
    },
    {
      "cell_type": "code",
      "source": [],
      "metadata": {
        "id": "dfJ1h41lkQj8"
      },
      "execution_count": null,
      "outputs": []
    }
  ]
}